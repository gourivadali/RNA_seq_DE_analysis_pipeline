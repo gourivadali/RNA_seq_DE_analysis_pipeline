{
 "cells": [
  {
   "cell_type": "markdown",
   "metadata": {},
   "source": [
    "## Data Challenge\n",
    "## Gouri Vadali"
   ]
  },
  {
   "cell_type": "markdown",
   "metadata": {},
   "source": [
    "### RNA Seq QC pipeline used"
   ]
  },
  {
   "cell_type": "markdown",
   "metadata": {},
   "source": [
    "1. The split replicate fastq files were first merged so that we obtain 2 replicates per state.\n",
    "2. The merged fastq files underwent quality trimming, FastQC stats generation using the `trim_qc_contaminant_phix_plasmid_seq_filter.sh`. I generated a multiqc report of all the FastQC stats on every .fastq file in 1 report.\n",
    "3. TruSeq adapter reads, phix reads (a regular illumina spike-in) and plasmid sequences were removed from the qc-ed fastq by using the bbduk.sh script from the bbMap tools package within the `trim_qc_contaminant_phix_plasmid_seq_filter.sh` file.\n",
    "4. Once checked for all of the above, the fastq files were then aligned to the ecoli reference genome downloaded from NCBI-RefSeq using a splice aware aligner, STAR.The script used was `run_starjob.sh`\n",
    "5. Once aligned to the reference genome, `htseq-counts` was used to count the genes mapped to the genome and generate a merged count matrix file (`merged_counts.txt`) to feed through the DESeq2 RNA-Seq analysis pipeline.\n",
    "6. In the respoitory you will find all the scripts needed to run the QC pipeline and the files needed to run the RNA Seq DE analysis workflow to obtain the differential genes between the two states."
   ]
  },
  {
   "cell_type": "markdown",
   "metadata": {},
   "source": [
    "## Running the DESeq2 Analysis Pipeline"
   ]
  },
  {
   "cell_type": "markdown",
   "metadata": {},
   "source": [
    "### Loading Libraries"
   ]
  },
  {
   "cell_type": "code",
   "execution_count": 1,
   "metadata": {
    "scrolled": false
   },
   "outputs": [
    {
     "name": "stderr",
     "output_type": "stream",
     "text": [
      "Loading required package: S4Vectors\n",
      "Loading required package: stats4\n",
      "Loading required package: BiocGenerics\n",
      "Loading required package: parallel\n",
      "\n",
      "Attaching package: 'BiocGenerics'\n",
      "\n",
      "The following objects are masked from 'package:parallel':\n",
      "\n",
      "    clusterApply, clusterApplyLB, clusterCall, clusterEvalQ,\n",
      "    clusterExport, clusterMap, parApply, parCapply, parLapply,\n",
      "    parLapplyLB, parRapply, parSapply, parSapplyLB\n",
      "\n",
      "The following objects are masked from 'package:stats':\n",
      "\n",
      "    IQR, mad, sd, var, xtabs\n",
      "\n",
      "The following objects are masked from 'package:base':\n",
      "\n",
      "    anyDuplicated, append, as.data.frame, basename, cbind, colnames,\n",
      "    dirname, do.call, duplicated, eval, evalq, Filter, Find, get, grep,\n",
      "    grepl, intersect, is.unsorted, lapply, Map, mapply, match, mget,\n",
      "    order, paste, pmax, pmax.int, pmin, pmin.int, Position, rank,\n",
      "    rbind, Reduce, rownames, sapply, setdiff, sort, table, tapply,\n",
      "    union, unique, unsplit, which, which.max, which.min\n",
      "\n",
      "\n",
      "Attaching package: 'S4Vectors'\n",
      "\n",
      "The following object is masked from 'package:base':\n",
      "\n",
      "    expand.grid\n",
      "\n",
      "Loading required package: IRanges\n",
      "\n",
      "Attaching package: 'IRanges'\n",
      "\n",
      "The following object is masked from 'package:grDevices':\n",
      "\n",
      "    windows\n",
      "\n",
      "Loading required package: GenomicRanges\n",
      "Loading required package: GenomeInfoDb\n",
      "Loading required package: SummarizedExperiment\n",
      "Loading required package: Biobase\n",
      "Welcome to Bioconductor\n",
      "\n",
      "    Vignettes contain introductory material; view with\n",
      "    'browseVignettes()'. To cite Bioconductor, see\n",
      "    'citation(\"Biobase\")', and for packages 'citation(\"pkgname\")'.\n",
      "\n",
      "Loading required package: DelayedArray\n",
      "Loading required package: matrixStats\n",
      "\n",
      "Attaching package: 'matrixStats'\n",
      "\n",
      "The following objects are masked from 'package:Biobase':\n",
      "\n",
      "    anyMissing, rowMedians\n",
      "\n",
      "Loading required package: BiocParallel\n",
      "\n",
      "Attaching package: 'DelayedArray'\n",
      "\n",
      "The following objects are masked from 'package:matrixStats':\n",
      "\n",
      "    colMaxs, colMins, colRanges, rowMaxs, rowMins, rowRanges\n",
      "\n",
      "The following objects are masked from 'package:base':\n",
      "\n",
      "    aperm, apply, rowsum\n",
      "\n",
      "Warning message:\n",
      "\"package 'pheatmap' was built under R version 3.6.2\"Warning message:\n",
      "\"package 'dplyr' was built under R version 3.6.2\"\n",
      "Attaching package: 'dplyr'\n",
      "\n",
      "The following object is masked from 'package:matrixStats':\n",
      "\n",
      "    count\n",
      "\n",
      "The following object is masked from 'package:Biobase':\n",
      "\n",
      "    combine\n",
      "\n",
      "The following objects are masked from 'package:GenomicRanges':\n",
      "\n",
      "    intersect, setdiff, union\n",
      "\n",
      "The following object is masked from 'package:GenomeInfoDb':\n",
      "\n",
      "    intersect\n",
      "\n",
      "The following objects are masked from 'package:IRanges':\n",
      "\n",
      "    collapse, desc, intersect, setdiff, slice, union\n",
      "\n",
      "The following objects are masked from 'package:S4Vectors':\n",
      "\n",
      "    first, intersect, rename, setdiff, setequal, union\n",
      "\n",
      "The following objects are masked from 'package:BiocGenerics':\n",
      "\n",
      "    combine, intersect, setdiff, union\n",
      "\n",
      "The following objects are masked from 'package:stats':\n",
      "\n",
      "    filter, lag\n",
      "\n",
      "The following objects are masked from 'package:base':\n",
      "\n",
      "    intersect, setdiff, setequal, union\n",
      "\n",
      "Warning message:\n",
      "\"package 'ggplot2' was built under R version 3.6.2\""
     ]
    }
   ],
   "source": [
    "library(DESeq2)\n",
    "library(tibble)\n",
    "library(reshape2)\n",
    "library(RColorBrewer)\n",
    "library(pheatmap)\n",
    "library(dplyr)\n",
    "library(ggplot2)"
   ]
  },
  {
   "cell_type": "markdown",
   "metadata": {},
   "source": [
    "### Data Wrangling"
   ]
  },
  {
   "cell_type": "code",
   "execution_count": 2,
   "metadata": {},
   "outputs": [],
   "source": [
    "counts_data <- read.table(\"merged_counts.txt\", header = FALSE, sep = '\\t')\n",
    "colnames(counts_data) <- c(\"gene\",\"counts\",\"sample\")\n",
    "\n",
    "### This table was generated by extracting information for genes and gene name from column 9 in the .gff3 file\n",
    "ecoli_annot <- read.table(\"geneIDs_name.txt\", header = TRUE, sep = '\\t')\n",
    "\n",
    "counts_data <- counts_data %>% filter(grepl(\"gene:\",gene)) %>% filter(counts >= 50) %>% distinct(.keep_all = TRUE)\n",
    "\n",
    "counts_data$gene <- gsub(\"gene:\",\"\",counts_data$gene)\n",
    "\n",
    "counts_data <- tidyr::spread(counts_data,sample,counts, fill = 0)\n",
    "\n",
    "rownames(counts_data) <- counts_data$gene\n",
    "\n",
    "counts_data$gene <- NULL"
   ]
  },
  {
   "cell_type": "markdown",
   "metadata": {},
   "source": [
    "### Plotting Count Distribution"
   ]
  },
  {
   "cell_type": "code",
   "execution_count": 3,
   "metadata": {},
   "outputs": [
    {
     "name": "stderr",
     "output_type": "stream",
     "text": [
      "No id variables; using all as measure variables\n",
      "Warning message:\n",
      "\"Removed 226 rows containing non-finite values (stat_density).\""
     ]
    },
    {
     "data": {
      "image/png": "[encoded data removed]",
      "text/plain": [
       "plot without title"
      ]
     },
     "metadata": {},
     "output_type": "display_data"
    }
   ],
   "source": [
    "counts_distrib <- melt(counts_data)\n",
    "\n",
    "ggplot(counts_distrib, aes(x = value, fill = variable))+ geom_density(aes(alpha = 0.1))+theme_bw()+xlim(0,10000)+labs(title = \"Raw count Distribution\",x=\"raw counts\")"
   ]
  },
  {
   "cell_type": "markdown",
   "metadata": {},
   "source": [
    "As you can see in the plot above that there are a large number of genes with low counts and many with 0 counts. We expect most genes to have a low expression and some genes to have a high expression, hence the heavily right skewed plot. I use a negative binomial distribution to model the expression of RNA-Seq data.  \n"
   ]
  },
  {
   "cell_type": "markdown",
   "metadata": {},
   "source": [
    "### Generate Metadata"
   ]
  },
  {
   "cell_type": "code",
   "execution_count": 4,
   "metadata": {},
   "outputs": [],
   "source": [
    "genotype <- c(\"ecoli_dh10\",\"ecoli_dh10\",\"ecoli_dh10\",\"ecoli_dh10\")\n",
    "\n",
    "condition <- c(\"state1\",\"state1\",\"state2\",\"state2\")\n",
    "\n",
    "ecoli_dh10_metadata <- data.frame(genotype, condition)\n",
    "\n",
    "rownames(ecoli_dh10_metadata) <- c(\"ecoli_state1_merged_rep1\",\"ecoli_state1_merged_rep2\",\"ecoli_state2_merged_rep1\",\"ecoli_state2_merged_rep2\")\n"
   ]
  },
  {
   "cell_type": "code",
   "execution_count": 5,
   "metadata": {},
   "outputs": [
    {
     "data": {
      "text/html": [
       "<table>\n",
       "<thead><tr><th></th><th scope=col>genotype</th><th scope=col>condition</th></tr></thead>\n",
       "<tbody>\n",
       "\t<tr><th scope=row>ecoli_state1_merged_rep1</th><td>ecoli_dh10</td><td>state1    </td></tr>\n",
       "\t<tr><th scope=row>ecoli_state1_merged_rep2</th><td>ecoli_dh10</td><td>state1    </td></tr>\n",
       "\t<tr><th scope=row>ecoli_state2_merged_rep1</th><td>ecoli_dh10</td><td>state2    </td></tr>\n",
       "\t<tr><th scope=row>ecoli_state2_merged_rep2</th><td>ecoli_dh10</td><td>state2    </td></tr>\n",
       "</tbody>\n",
       "</table>\n"
      ],
      "text/latex": [
       "\\begin{tabular}{r|ll}\n",
       "  & genotype & condition\\\\\n",
       "\\hline\n",
       "\tecoli\\_state1\\_merged\\_rep1 & ecoli\\_dh10 & state1      \\\\\n",
       "\tecoli\\_state1\\_merged\\_rep2 & ecoli\\_dh10 & state1      \\\\\n",
       "\tecoli\\_state2\\_merged\\_rep1 & ecoli\\_dh10 & state2      \\\\\n",
       "\tecoli\\_state2\\_merged\\_rep2 & ecoli\\_dh10 & state2      \\\\\n",
       "\\end{tabular}\n"
      ],
      "text/markdown": [
       "\n",
       "| <!--/--> | genotype | condition |\n",
       "|---|---|---|\n",
       "| ecoli_state1_merged_rep1 | ecoli_dh10 | state1     |\n",
       "| ecoli_state1_merged_rep2 | ecoli_dh10 | state1     |\n",
       "| ecoli_state2_merged_rep1 | ecoli_dh10 | state2     |\n",
       "| ecoli_state2_merged_rep2 | ecoli_dh10 | state2     |\n",
       "\n"
      ],
      "text/plain": [
       "                         genotype   condition\n",
       "ecoli_state1_merged_rep1 ecoli_dh10 state1   \n",
       "ecoli_state1_merged_rep2 ecoli_dh10 state1   \n",
       "ecoli_state2_merged_rep1 ecoli_dh10 state2   \n",
       "ecoli_state2_merged_rep2 ecoli_dh10 state2   "
      ]
     },
     "metadata": {},
     "output_type": "display_data"
    }
   ],
   "source": [
    "ecoli_dh10_metadata"
   ]
  },
  {
   "cell_type": "markdown",
   "metadata": {},
   "source": [
    "### DE Analysis - QC - Normalization"
   ]
  },
  {
   "cell_type": "code",
   "execution_count": 6,
   "metadata": {},
   "outputs": [
    {
     "data": {
      "text/html": [
       "TRUE"
      ],
      "text/latex": [
       "TRUE"
      ],
      "text/markdown": [
       "TRUE"
      ],
      "text/plain": [
       "[1] TRUE"
      ]
     },
     "metadata": {},
     "output_type": "display_data"
    },
    {
     "name": "stderr",
     "output_type": "stream",
     "text": [
      "converting counts to integer mode\n"
     ]
    }
   ],
   "source": [
    "# Check to see if the rownames in or metadata file is same as colnames in the raw count data\n",
    "all(rownames(ecoli_dh10_metadata) == colnames(counts_data))\n",
    "\n",
    "# Create a DESeq2 object\n",
    "dds_ecoli_dh10 <- DESeqDataSetFromMatrix(countData = counts_data, colData = ecoli_dh10_metadata, design = ~ condition)"
   ]
  },
  {
   "cell_type": "markdown",
   "metadata": {},
   "source": [
    "The design formula tells us the major source of variation to control for or regress out  as well as the condition of interest for DE testing"
   ]
  },
  {
   "cell_type": "markdown",
   "metadata": {},
   "source": [
    "Raw counts should be normalized to account for differences in library depth, asses sample level quality metrics. DESeq uses \"median of ratios\" normalization. This method adjusts the raw counts for library size and is resistant to the large numbers of differentially expressed gene"
   ]
  },
  {
   "cell_type": "code",
   "execution_count": 7,
   "metadata": {},
   "outputs": [],
   "source": [
    "# Estimate size factors used to normalize the counts per gene per sample\n",
    "dds_ecoli_dh10 <- estimateSizeFactors(dds_ecoli_dh10)\n",
    "\n",
    "# Extract the normalized counts from the DESeq2 object\n",
    "norm_ecoli_dh10 <- counts(dds_ecoli_dh10, normalized = TRUE)"
   ]
  },
  {
   "cell_type": "code",
   "execution_count": 8,
   "metadata": {},
   "outputs": [
    {
     "data": {
      "text/html": [
       "<dl class=dl-horizontal>\n",
       "\t<dt>ecoli_state1_merged_rep1</dt>\n",
       "\t\t<dd>0.519982053304164</dd>\n",
       "\t<dt>ecoli_state1_merged_rep2</dt>\n",
       "\t\t<dd>0.977257746401282</dd>\n",
       "\t<dt>ecoli_state2_merged_rep1</dt>\n",
       "\t\t<dd>2.01644301503257</dd>\n",
       "\t<dt>ecoli_state2_merged_rep2</dt>\n",
       "\t\t<dd>0.995824801451442</dd>\n",
       "</dl>\n"
      ],
      "text/latex": [
       "\\begin{description*}\n",
       "\\item[ecoli\\textbackslash{}\\_state1\\textbackslash{}\\_merged\\textbackslash{}\\_rep1] 0.519982053304164\n",
       "\\item[ecoli\\textbackslash{}\\_state1\\textbackslash{}\\_merged\\textbackslash{}\\_rep2] 0.977257746401282\n",
       "\\item[ecoli\\textbackslash{}\\_state2\\textbackslash{}\\_merged\\textbackslash{}\\_rep1] 2.01644301503257\n",
       "\\item[ecoli\\textbackslash{}\\_state2\\textbackslash{}\\_merged\\textbackslash{}\\_rep2] 0.995824801451442\n",
       "\\end{description*}\n"
      ],
      "text/markdown": [
       "ecoli_state1_merged_rep1\n",
       ":   0.519982053304164ecoli_state1_merged_rep2\n",
       ":   0.977257746401282ecoli_state2_merged_rep1\n",
       ":   2.01644301503257ecoli_state2_merged_rep2\n",
       ":   0.995824801451442\n",
       "\n"
      ],
      "text/plain": [
       "ecoli_state1_merged_rep1 ecoli_state1_merged_rep2 ecoli_state2_merged_rep1 \n",
       "               0.5199821                0.9772577                2.0164430 \n",
       "ecoli_state2_merged_rep2 \n",
       "               0.9958248 "
      ]
     },
     "metadata": {},
     "output_type": "display_data"
    }
   ],
   "source": [
    "sizeFactors(dds_ecoli_dh10)"
   ]
  },
  {
   "cell_type": "markdown",
   "metadata": {},
   "source": [
    "### DE Analysis - Unsupervised Clustering Analysis"
   ]
  },
  {
   "cell_type": "markdown",
   "metadata": {},
   "source": [
    "Performed to identify outliers, other major sources of variation in the data and how similar are the samples to each other with regards to gene expression"
   ]
  },
  {
   "cell_type": "markdown",
   "metadata": {},
   "source": [
    "### Hierarchical Clustering & PCA"
   ]
  },
  {
   "cell_type": "markdown",
   "metadata": {},
   "source": [
    "Log transformation of the normalized counts improves the visualization of the clustering. For RNA-Seq data DESeq2 uses a variant stabilizing clustering, which is a log transformation that moderates the variance across the mean"
   ]
  },
  {
   "cell_type": "code",
   "execution_count": 9,
   "metadata": {},
   "outputs": [
    {
     "name": "stderr",
     "output_type": "stream",
     "text": [
      "-- note: fitType='parametric', but the dispersion trend was not well captured by the\n",
      "   function: y = a/x + b, and a local regression fit was automatically substituted.\n",
      "   specify fitType='local' or 'mean' to avoid this message next time.\n"
     ]
    },
    {
     "data": {
      "image/png": "[encoded data removed]",
      "text/plain": [
       "plot without title"
      ]
     },
     "metadata": {},
     "output_type": "display_data"
    }
   ],
   "source": [
    "vsd_ecoli_dh10 <- vst(dds_ecoli_dh10, blind = TRUE)\n",
    "\n",
    "### Generating a matrix of log2 normalized counts\n",
    "vsd_mat <- assay(vsd_ecoli_dh10)\n",
    "\n",
    "# Compute pairwise correlation values\n",
    "vsd_cor <- cor(vsd_mat)\n",
    "\n",
    "pheatmap(vsd_cor, annotation = select(ecoli_dh10_metadata, condition))"
   ]
  },
  {
   "cell_type": "markdown",
   "metadata": {},
   "source": [
    "The heatmap shows that the samples within groups are clustering together and the conditions cluster separately. The DE genes between our conditions might be likely driving the separation. "
   ]
  },
  {
   "cell_type": "code",
   "execution_count": 10,
   "metadata": {},
   "outputs": [
    {
     "data": {
      "image/png": "[encoded data removed]",
      "text/plain": [
       "plot without title"
      ]
     },
     "metadata": {},
     "output_type": "display_data"
    }
   ],
   "source": [
    "### PCA - finds the variation present in the dataset.\n",
    "plotPCA(vsd_ecoli_dh10, intgroup = \"condition\")"
   ]
  },
  {
   "cell_type": "markdown",
   "metadata": {},
   "source": [
    "The sample groups separate well and which is expected with RNA-Seq data. The variation is mostly explained by PC1. Interestingly, there is a large separation seen between the samples of the group state1, this might be due to the batch effects or differences in library size. "
   ]
  },
  {
   "cell_type": "markdown",
   "metadata": {},
   "source": [
    "### Modeling raw counts for each gene"
   ]
  },
  {
   "cell_type": "markdown",
   "metadata": {},
   "source": [
    "Since we did not find any outliers, we proceed with running the Negative Binomial model on the DESEq2 object created earlier"
   ]
  },
  {
   "cell_type": "code",
   "execution_count": 11,
   "metadata": {},
   "outputs": [
    {
     "name": "stderr",
     "output_type": "stream",
     "text": [
      "using pre-existing size factors\n",
      "estimating dispersions\n",
      "gene-wise dispersion estimates\n",
      "mean-dispersion relationship\n",
      "final dispersion estimates\n",
      "fitting model and testing\n"
     ]
    }
   ],
   "source": [
    "# Run analysis\n",
    "dds_ecoli_dh10 <- DESeq(dds_ecoli_dh10)"
   ]
  },
  {
   "cell_type": "markdown",
   "metadata": {},
   "source": [
    "How well did our data fit the model? The DESeq2 model uses the dispersion to assess the variability in expression when modeling the counts. This is done by plotting for dispersion estimates"
   ]
  },
  {
   "cell_type": "markdown",
   "metadata": {},
   "source": [
    "We expect the dispersion values to decrease with increasing mean in RNA Seq data. The plot above shows a cloud of data (black dots), which are the genes that don't entirely cluster around the maximum likelihood line (red line). This can be due to contamination or presence of variation in samples"
   ]
  },
  {
   "cell_type": "code",
   "execution_count": 12,
   "metadata": {},
   "outputs": [
    {
     "data": {
      "image/png": "[encoded data removed]",
      "text/plain": [
       "plot without title"
      ]
     },
     "metadata": {},
     "output_type": "display_data"
    }
   ],
   "source": [
    "plotDispEsts(dds_ecoli_dh10)"
   ]
  },
  {
   "cell_type": "markdown",
   "metadata": {},
   "source": [
    "To improve the estimated Fold Change(FC), we can perform log2FC shrinkage - for genes with low amounts of information associated with them.  Shrinkage uses information from all genes to generate more likely, lower log2 FC"
   ]
  },
  {
   "cell_type": "code",
   "execution_count": 13,
   "metadata": {},
   "outputs": [
    {
     "name": "stderr",
     "output_type": "stream",
     "text": [
      "using 'normal' for LFC shrinkage, the Normal prior from Love et al (2014).\n",
      "\n",
      "Note that type='apeglm' and type='ashr' have shown to have less bias than type='normal'.\n",
      "See ?lfcShrink for more details on shrinkage type, and the DESeq2 vignette.\n",
      "Reference: https://doi.org/10.1093/bioinformatics/bty895\n"
     ]
    },
    {
     "name": "stdout",
     "output_type": "stream",
     "text": [
      "\n",
      "out of 3440 with nonzero total read count\n",
      "adjusted p-value < 0.05\n",
      "LFC > 0 (up)       : 98, 2.8%\n",
      "LFC < 0 (down)     : 117, 3.4%\n",
      "outliers [1]       : 0, 0%\n",
      "low counts [2]     : 0, 0%\n",
      "(mean count < 6)\n",
      "[1] see 'cooksCutoff' argument of ?results\n",
      "[2] see 'independentFiltering' argument of ?results\n",
      "\n"
     ]
    }
   ],
   "source": [
    "# We can include a 1.25 log2FC threshold and test for significant genes. \n",
    "# Ideally, we need not apply the log2FC thresh, but when there are large # of significnat genes, \n",
    "# applying a threshold is useful.\n",
    "\n",
    "ecoli_res <- results(dds_ecoli_dh10, contrast = c(\"condition\",\"state1\",\"state2\"), alpha = 0.05, lfcThreshold = 0.32)\n",
    "# Alpha denotes the significance level\n",
    "\n",
    "ecoli_res <- lfcShrink(dds_ecoli_dh10, contrast = c(\"condition\",\"state1\",\"state2\"), res = ecoli_res)\n",
    "\n",
    "summary(ecoli_res)"
   ]
  },
  {
   "cell_type": "markdown",
   "metadata": {},
   "source": [
    "#### Obtaining the gene name information for the DE results"
   ]
  },
  {
   "cell_type": "code",
   "execution_count": 14,
   "metadata": {},
   "outputs": [],
   "source": [
    "#Join the annotation table with the results\n",
    "ecoli_res_all <- data.frame(ecoli_res) %>% rownames_to_column(.,var = \"gene\")\n",
    "\n",
    "ecoli_annot$gene <- as.character(ecoli_annot$gene)\n",
    "ecoli_res_all$gene <- as.character(ecoli_res_all$gene)\n",
    "\n",
    "ecoli_res_all <- left_join(ecoli_res_all, ecoli_annot, by = \"gene\")\n",
    "\n",
    "# Subset the significant genes\n",
    "sig_ecoli_dh10 <- subset(ecoli_res_all, padj < 0.05) %>% filter(!is.na(name)) %>% arrange(padj)"
   ]
  },
  {
   "cell_type": "code",
   "execution_count": 15,
   "metadata": {},
   "outputs": [
    {
     "data": {
      "text/html": [
       "<table>\n",
       "<thead><tr><th scope=col>gene</th><th scope=col>baseMean</th><th scope=col>log2FoldChange</th><th scope=col>lfcSE</th><th scope=col>stat</th><th scope=col>pvalue</th><th scope=col>padj</th><th scope=col>name</th></tr></thead>\n",
       "<tbody>\n",
       "\t<tr><td>ECDH10B_4349</td><td> 4910.1638  </td><td> 4.8193605  </td><td>0.2678555   </td><td> 16.818233  </td><td>1.794305e-63</td><td>6.172411e-60</td><td>frdA        </td></tr>\n",
       "\t<tr><td>ECDH10B_4523</td><td> 1897.2965  </td><td>-4.5317676  </td><td>0.3118796   </td><td>-13.501608  </td><td>1.529995e-41</td><td>2.631591e-38</td><td>fhuF        </td></tr>\n",
       "\t<tr><td>ECDH10B_2363</td><td>  766.1215  </td><td> 8.8102065  </td><td>0.6410114   </td><td>  8.511573  </td><td>1.715898e-17</td><td>1.967563e-14</td><td>napA        </td></tr>\n",
       "\t<tr><td>ECDH10B_0285</td><td>  543.2880  </td><td> 1.0330428  </td><td>0.7311618   </td><td>  8.330090  </td><td>8.078086e-17</td><td>5.557723e-14</td><td>ykgM        </td></tr>\n",
       "\t<tr><td>ECDH10B_2312</td><td> 1317.5887  </td><td>-3.7295739  </td><td>0.4099424   </td><td> -8.352489  </td><td>6.683921e-17</td><td>5.557723e-14</td><td>cirA        </td></tr>\n",
       "\t<tr><td>ECDH10B_2203</td><td>  941.5378  </td><td>-7.8217323  </td><td>0.6821640   </td><td> -7.795989  </td><td>6.390618e-15</td><td>3.663955e-12</td><td>gmd         </td></tr>\n",
       "\t<tr><td>ECDH10B_1371</td><td>  524.6469  </td><td> 7.6604750  </td><td>0.6966013   </td><td>  7.746501  </td><td>9.445937e-15</td><td>4.642004e-12</td><td>ompW        </td></tr>\n",
       "\t<tr><td>ECDH10B_0283</td><td>  319.2418  </td><td> 0.9117007  </td><td>0.7088226   </td><td>  7.705587  </td><td>1.302434e-14</td><td>5.600466e-12</td><td>ykgL        </td></tr>\n",
       "\t<tr><td>ECDH10B_3289</td><td>  297.1256  </td><td> 0.8951693  </td><td>0.7054366   </td><td>  7.618524  </td><td>2.565931e-14</td><td>9.807558e-12</td><td>tdcD        </td></tr>\n",
       "\t<tr><td>ECDH10B_2842</td><td>  580.0996  </td><td>-7.6076874  </td><td>0.6710524   </td><td> -7.526358  </td><td>5.217534e-14</td><td>1.794832e-11</td><td>nrdE        </td></tr>\n",
       "\t<tr><td>ECDH10B_2202</td><td>  523.3319  </td><td>-6.9778354  </td><td>0.7088983   </td><td> -7.123679  </td><td>1.050836e-12</td><td>3.012397e-10</td><td>fcl         </td></tr>\n",
       "\t<tr><td>ECDH10B_4347</td><td>  559.9898  </td><td> 4.1996793  </td><td>0.5491989   </td><td>  7.127364  </td><td>1.023091e-12</td><td>3.012397e-10</td><td>frdC        </td></tr>\n",
       "\t<tr><td>ECDH10B_2206</td><td>  502.6374  </td><td>-6.7628731  </td><td>0.7200997   </td><td> -6.991781  </td><td>2.714176e-12</td><td>6.738332e-10</td><td>wcaD        </td></tr>\n",
       "\t<tr><td>ECDH10B_3292</td><td>  183.6602  </td><td> 0.7737728  </td><td>0.6776050   </td><td>  6.990333  </td><td>2.742344e-12</td><td>6.738332e-10</td><td>tdcA        </td></tr>\n",
       "\t<tr><td>ECDH10B_2176</td><td> 1492.0338  </td><td>-3.1789238  </td><td>0.4153000   </td><td> -6.930142  </td><td>4.204191e-12</td><td>9.641612e-10</td><td>ugd         </td></tr>\n",
       "\t<tr><td>ECDH10B_2210</td><td>  525.3330  </td><td>-6.4952239  </td><td>0.7359175   </td><td> -6.873356  </td><td>6.270864e-12</td><td>1.348236e-09</td><td>wzc         </td></tr>\n",
       "\t<tr><td>ECDH10B_4215</td><td>  363.0161  </td><td>-6.6431785  </td><td>0.7143003   </td><td> -6.808675  </td><td>9.850149e-12</td><td>1.993207e-09</td><td>yjbE        </td></tr>\n",
       "\t<tr><td>ECDH10B_0965</td><td>  266.2661  </td><td> 6.2816188  </td><td>0.7467045   </td><td>  6.775493  </td><td>1.239824e-11</td><td>2.369442e-09</td><td>dmsB        </td></tr>\n",
       "\t<tr><td>ECDH10B_2200</td><td>  389.1065  </td><td>-6.3826924  </td><td>0.7326014   </td><td> -6.689446  </td><td>2.240166e-11</td><td>4.055880e-09</td><td>wcaI        </td></tr>\n",
       "\t<tr><td>ECDH10B_3173</td><td>  248.5259  </td><td> 6.0881814  </td><td>0.7538812   </td><td>  6.652857  </td><td>2.874573e-11</td><td>4.944266e-09</td><td>hybA        </td></tr>\n",
       "\t<tr><td>ECDH10B_2359</td><td>  231.1944  </td><td> 6.0804429  </td><td>0.7527275   </td><td>  6.613711  </td><td>3.748036e-11</td><td>6.139639e-09</td><td>napC        </td></tr>\n",
       "\t<tr><td>ECDH10B_2199</td><td>  348.1312  </td><td>-6.2738420  </td><td>0.7349373   </td><td> -6.587505  </td><td>4.472775e-11</td><td>6.993794e-09</td><td>cpsB        </td></tr>\n",
       "\t<tr><td>ECDH10B_3174</td><td>  577.9017  </td><td> 3.7341370  </td><td>0.5246033   </td><td>  6.570483  </td><td>5.015228e-11</td><td>7.501036e-09</td><td>hybO        </td></tr>\n",
       "\t<tr><td>ECDH10B_4134</td><td>  293.2224  </td><td> 5.6497506  </td><td>0.7735471   </td><td>  6.557189  </td><td>5.483153e-11</td><td>7.859186e-09</td><td>gldA        </td></tr>\n",
       "\t<tr><td>ECDH10B_0973</td><td>11939.4236  </td><td> 2.0961228  </td><td>0.2729598   </td><td>  6.539486  </td><td>6.173051e-11</td><td>8.494119e-09</td><td>pflB        </td></tr>\n",
       "\t<tr><td>ECDH10B_2201</td><td>  318.6860  </td><td>-6.1550287  </td><td>0.7386320   </td><td> -6.489040  </td><td>8.638498e-11</td><td>1.142940e-08</td><td>nudD        </td></tr>\n",
       "\t<tr><td>ECDH10B_2843</td><td>  294.6255  </td><td>-6.1123901  </td><td>0.7383848   </td><td> -6.435426  </td><td>1.231279e-10</td><td>1.512714e-08</td><td>nrdF        </td></tr>\n",
       "\t<tr><td>ECDH10B_2895</td><td>  247.0361  </td><td> 5.5966978  </td><td>0.7733961   </td><td>  6.437201  </td><td>1.216970e-10</td><td>1.512714e-08</td><td>hypB        </td></tr>\n",
       "\t<tr><td>ECDH10B_4131</td><td> 2644.2049  </td><td> 2.7995993  </td><td>0.3927516   </td><td>  6.361781  </td><td>1.994277e-10</td><td>2.365625e-08</td><td>katG        </td></tr>\n",
       "\t<tr><td>ECDH10B_3541</td><td>  877.5041  </td><td> 4.0923571  </td><td>0.6063958   </td><td>  6.317736  </td><td>2.654233e-10</td><td>3.043521e-08</td><td>nirB        </td></tr>\n",
       "\t<tr><td>...</td><td>...</td><td>...</td><td>...</td><td>...</td><td>...</td><td>...</td><td>...</td></tr>\n",
       "\t<tr><td>ECDH10B_4534  </td><td>  49.71473    </td><td>-1.704509     </td><td>0.8036177     </td><td>-3.230207     </td><td>0.001237006   </td><td>0.02325302    </td><td>ytjA          </td></tr>\n",
       "\t<tr><td>ECDH10B_1808  </td><td>  39.77660    </td><td> 1.391755     </td><td>0.7777937     </td><td> 3.219723     </td><td>0.001283146   </td><td>0.02398926    </td><td>ydhY          </td></tr>\n",
       "\t<tr><td>ECDH10B_3158  </td><td>  48.02581    </td><td>-1.683939     </td><td>0.8023996     </td><td>-3.197897     </td><td>0.001384335   </td><td>0.02574115    </td><td>yghO          </td></tr>\n",
       "\t<tr><td>ECDH10B_1621  </td><td>  49.18845    </td><td>-1.660546     </td><td>0.8008493     </td><td>-3.193656     </td><td>0.001404835   </td><td>0.02598189    </td><td>yddV          </td></tr>\n",
       "\t<tr><td>ECDH10B_1492  </td><td>  47.78402    </td><td>-1.675970     </td><td>0.8019019     </td><td>-3.189613     </td><td>0.001424636   </td><td>0.02620721    </td><td>insH-5        </td></tr>\n",
       "\t<tr><td>ECDH10B_3744  </td><td>  48.10349    </td><td>-1.666696     </td><td>0.8012909     </td><td>-3.186524     </td><td>0.001439938   </td><td>0.02634779    </td><td>yiaB          </td></tr>\n",
       "\t<tr><td>ECDH10B_1614  </td><td>  48.99245    </td><td>-1.648760     </td><td>0.8000785     </td><td>-3.182781     </td><td>0.001458680   </td><td>0.02654953    </td><td>ddpF          </td></tr>\n",
       "\t<tr><td>ECDH10B_1208  </td><td>6815.82008    </td><td>-1.272723     </td><td>0.3039748     </td><td>-3.170788     </td><td>0.001520261   </td><td>0.02726482    </td><td>icd           </td></tr>\n",
       "\t<tr><td>ECDH10B_2674  </td><td>2188.97129    </td><td>-1.502069     </td><td>0.3783449     </td><td>-3.170502     </td><td>0.001521758   </td><td>0.02726482    </td><td>guaB          </td></tr>\n",
       "\t<tr><td>ECDH10B_3389  </td><td>  47.84627    </td><td>-1.651768     </td><td>0.8003192     </td><td>-3.173063     </td><td>0.001508398   </td><td>0.02726482    </td><td>gltF          </td></tr>\n",
       "\t<tr><td>ECDH10B_2591  </td><td>1389.23670    </td><td> 1.971189     </td><td>0.5358637     </td><td> 3.153001     </td><td>0.001616014   </td><td>0.02880357    </td><td>ucpA          </td></tr>\n",
       "\t<tr><td>ECDH10B_1313  </td><td>  46.11363    </td><td>-1.607070     </td><td>0.7973069     </td><td>-3.121708     </td><td>0.001798051   </td><td>0.03171946    </td><td>int           </td></tr>\n",
       "\t<tr><td>ECDH10B_3403  </td><td> 584.76312    </td><td> 1.786650     </td><td>0.4791045     </td><td> 3.122554     </td><td>0.001792891   </td><td>0.03171946    </td><td>nanR          </td></tr>\n",
       "\t<tr><td>EBG00001089610</td><td>  45.53694    </td><td>-1.603662     </td><td>0.7970870     </td><td>-3.112712     </td><td>0.001853768   </td><td>0.03237037    </td><td>SraC_RyeA     </td></tr>\n",
       "\t<tr><td>ECDH10B_2588  </td><td>  45.68253    </td><td>-1.603547     </td><td>0.7970732     </td><td>-3.114211     </td><td>0.001844378   </td><td>0.03237037    </td><td>cysW          </td></tr>\n",
       "\t<tr><td>ECDH10B_1650  </td><td>  44.62586    </td><td>-1.564817     </td><td>0.7942526     </td><td>-3.073842     </td><td>0.002113212   </td><td>0.03671438    </td><td>tam           </td></tr>\n",
       "\t<tr><td>ECDH10B_0964  </td><td> 716.03972    </td><td> 2.154744     </td><td>0.8281728     </td><td> 3.055873     </td><td>0.002244065   </td><td>0.03840504    </td><td>dmsA          </td></tr>\n",
       "\t<tr><td>ECDH10B_2009  </td><td>  47.42392    </td><td>-1.499286     </td><td>0.7889009     </td><td>-3.054391     </td><td>0.002255180   </td><td>0.03840504    </td><td>yecE          </td></tr>\n",
       "\t<tr><td>ECDH10B_4331  </td><td>1452.19750    </td><td> 1.949934     </td><td>0.5467968     </td><td> 3.054562     </td><td>0.002253893   </td><td>0.03840504    </td><td>dcuA          </td></tr>\n",
       "\t<tr><td>ECDH10B_0795  </td><td>2828.33358    </td><td>-1.309726     </td><td>0.3292483     </td><td>-3.045832     </td><td>0.002320372   </td><td>0.03932059    </td><td>sucD          </td></tr>\n",
       "\t<tr><td>ECDH10B_1620  </td><td>  43.59337    </td><td>-1.515223     </td><td>0.7903736     </td><td>-3.024539     </td><td>0.002490121   </td><td>0.04199028    </td><td>dos           </td></tr>\n",
       "\t<tr><td>ECDH10B_3624  </td><td>  43.59388    </td><td>-1.503093     </td><td>0.7893658     </td><td>-3.015537     </td><td>0.002565244   </td><td>0.04304604    </td><td>ugpC          </td></tr>\n",
       "\t<tr><td>ECDH10B_2245  </td><td> 714.99032    </td><td> 1.926451     </td><td>0.5480722     </td><td> 3.004746     </td><td>0.002658028   </td><td>0.04438649    </td><td>gatC          </td></tr>\n",
       "\t<tr><td>ECDH10B_4212  </td><td> 409.74063    </td><td> 1.770872     </td><td>0.4938764     </td><td> 3.001118     </td><td>0.002689904   </td><td>0.04448687    </td><td>yjbD          </td></tr>\n",
       "\t<tr><td>ECDH10B_4461  </td><td>  45.03535    </td><td>-1.464486     </td><td>0.7859814     </td><td>-3.001944     </td><td>0.002682615   </td><td>0.04448687    </td><td>idnK          </td></tr>\n",
       "\t<tr><td>ECDH10B_1243  </td><td> 998.65877    </td><td>-1.377328     </td><td>0.3591508     </td><td>-2.987412     </td><td>0.002813499   </td><td>0.04630831    </td><td>dadX          </td></tr>\n",
       "\t<tr><td>ECDH10B_2322  </td><td>  42.33813    </td><td>-1.481188     </td><td>0.7875580     </td><td>-2.983881     </td><td>0.002846171   </td><td>0.04642343    </td><td>yeiN          </td></tr>\n",
       "\t<tr><td>ECDH10B_3197  </td><td>  44.04968    </td><td>-1.455316     </td><td>0.7852017     </td><td>-2.983740     </td><td>0.002847484   </td><td>0.04642343    </td><td>ygiV          </td></tr>\n",
       "\t<tr><td>ECDH10B_0871  </td><td>  41.43940    </td><td>-1.467017     </td><td>0.7863585     </td><td>-2.962316     </td><td>0.003053344   </td><td>0.04931221    </td><td>ybiI          </td></tr>\n",
       "\t<tr><td>ECDH10B_1698  </td><td>  45.56730    </td><td>-1.402527     </td><td>0.7802100     </td><td>-2.957858     </td><td>0.003097846   </td><td>0.04956553    </td><td>flxA          </td></tr>\n",
       "</tbody>\n",
       "</table>\n"
      ],
      "text/latex": [
       "\\begin{tabular}{r|llllllll}\n",
       " gene & baseMean & log2FoldChange & lfcSE & stat & pvalue & padj & name\\\\\n",
       "\\hline\n",
       "\t ECDH10B\\_4349 &  4910.1638     &  4.8193605     & 0.2678555      &  16.818233     & 1.794305e-63   & 6.172411e-60   & frdA          \\\\\n",
       "\t ECDH10B\\_4523 &  1897.2965     & -4.5317676     & 0.3118796      & -13.501608     & 1.529995e-41   & 2.631591e-38   & fhuF          \\\\\n",
       "\t ECDH10B\\_2363 &   766.1215     &  8.8102065     & 0.6410114      &   8.511573     & 1.715898e-17   & 1.967563e-14   & napA          \\\\\n",
       "\t ECDH10B\\_0285 &   543.2880     &  1.0330428     & 0.7311618      &   8.330090     & 8.078086e-17   & 5.557723e-14   & ykgM          \\\\\n",
       "\t ECDH10B\\_2312 &  1317.5887     & -3.7295739     & 0.4099424      &  -8.352489     & 6.683921e-17   & 5.557723e-14   & cirA          \\\\\n",
       "\t ECDH10B\\_2203 &   941.5378     & -7.8217323     & 0.6821640      &  -7.795989     & 6.390618e-15   & 3.663955e-12   & gmd           \\\\\n",
       "\t ECDH10B\\_1371 &   524.6469     &  7.6604750     & 0.6966013      &   7.746501     & 9.445937e-15   & 4.642004e-12   & ompW          \\\\\n",
       "\t ECDH10B\\_0283 &   319.2418     &  0.9117007     & 0.7088226      &   7.705587     & 1.302434e-14   & 5.600466e-12   & ykgL          \\\\\n",
       "\t ECDH10B\\_3289 &   297.1256     &  0.8951693     & 0.7054366      &   7.618524     & 2.565931e-14   & 9.807558e-12   & tdcD          \\\\\n",
       "\t ECDH10B\\_2842 &   580.0996     & -7.6076874     & 0.6710524      &  -7.526358     & 5.217534e-14   & 1.794832e-11   & nrdE          \\\\\n",
       "\t ECDH10B\\_2202 &   523.3319     & -6.9778354     & 0.7088983      &  -7.123679     & 1.050836e-12   & 3.012397e-10   & fcl           \\\\\n",
       "\t ECDH10B\\_4347 &   559.9898     &  4.1996793     & 0.5491989      &   7.127364     & 1.023091e-12   & 3.012397e-10   & frdC          \\\\\n",
       "\t ECDH10B\\_2206 &   502.6374     & -6.7628731     & 0.7200997      &  -6.991781     & 2.714176e-12   & 6.738332e-10   & wcaD          \\\\\n",
       "\t ECDH10B\\_3292 &   183.6602     &  0.7737728     & 0.6776050      &   6.990333     & 2.742344e-12   & 6.738332e-10   & tdcA          \\\\\n",
       "\t ECDH10B\\_2176 &  1492.0338     & -3.1789238     & 0.4153000      &  -6.930142     & 4.204191e-12   & 9.641612e-10   & ugd           \\\\\n",
       "\t ECDH10B\\_2210 &   525.3330     & -6.4952239     & 0.7359175      &  -6.873356     & 6.270864e-12   & 1.348236e-09   & wzc           \\\\\n",
       "\t ECDH10B\\_4215 &   363.0161     & -6.6431785     & 0.7143003      &  -6.808675     & 9.850149e-12   & 1.993207e-09   & yjbE          \\\\\n",
       "\t ECDH10B\\_0965 &   266.2661     &  6.2816188     & 0.7467045      &   6.775493     & 1.239824e-11   & 2.369442e-09   & dmsB          \\\\\n",
       "\t ECDH10B\\_2200 &   389.1065     & -6.3826924     & 0.7326014      &  -6.689446     & 2.240166e-11   & 4.055880e-09   & wcaI          \\\\\n",
       "\t ECDH10B\\_3173 &   248.5259     &  6.0881814     & 0.7538812      &   6.652857     & 2.874573e-11   & 4.944266e-09   & hybA          \\\\\n",
       "\t ECDH10B\\_2359 &   231.1944     &  6.0804429     & 0.7527275      &   6.613711     & 3.748036e-11   & 6.139639e-09   & napC          \\\\\n",
       "\t ECDH10B\\_2199 &   348.1312     & -6.2738420     & 0.7349373      &  -6.587505     & 4.472775e-11   & 6.993794e-09   & cpsB          \\\\\n",
       "\t ECDH10B\\_3174 &   577.9017     &  3.7341370     & 0.5246033      &   6.570483     & 5.015228e-11   & 7.501036e-09   & hybO          \\\\\n",
       "\t ECDH10B\\_4134 &   293.2224     &  5.6497506     & 0.7735471      &   6.557189     & 5.483153e-11   & 7.859186e-09   & gldA          \\\\\n",
       "\t ECDH10B\\_0973 & 11939.4236     &  2.0961228     & 0.2729598      &   6.539486     & 6.173051e-11   & 8.494119e-09   & pflB          \\\\\n",
       "\t ECDH10B\\_2201 &   318.6860     & -6.1550287     & 0.7386320      &  -6.489040     & 8.638498e-11   & 1.142940e-08   & nudD          \\\\\n",
       "\t ECDH10B\\_2843 &   294.6255     & -6.1123901     & 0.7383848      &  -6.435426     & 1.231279e-10   & 1.512714e-08   & nrdF          \\\\\n",
       "\t ECDH10B\\_2895 &   247.0361     &  5.5966978     & 0.7733961      &   6.437201     & 1.216970e-10   & 1.512714e-08   & hypB          \\\\\n",
       "\t ECDH10B\\_4131 &  2644.2049     &  2.7995993     & 0.3927516      &   6.361781     & 1.994277e-10   & 2.365625e-08   & katG          \\\\\n",
       "\t ECDH10B\\_3541 &   877.5041     &  4.0923571     & 0.6063958      &   6.317736     & 2.654233e-10   & 3.043521e-08   & nirB          \\\\\n",
       "\t ... & ... & ... & ... & ... & ... & ... & ...\\\\\n",
       "\t ECDH10B\\_4534   &   49.71473       & -1.704509        & 0.8036177        & -3.230207        & 0.001237006      & 0.02325302       & ytjA            \\\\\n",
       "\t ECDH10B\\_1808   &   39.77660       &  1.391755        & 0.7777937        &  3.219723        & 0.001283146      & 0.02398926       & ydhY            \\\\\n",
       "\t ECDH10B\\_3158   &   48.02581       & -1.683939        & 0.8023996        & -3.197897        & 0.001384335      & 0.02574115       & yghO            \\\\\n",
       "\t ECDH10B\\_1621   &   49.18845       & -1.660546        & 0.8008493        & -3.193656        & 0.001404835      & 0.02598189       & yddV            \\\\\n",
       "\t ECDH10B\\_1492   &   47.78402       & -1.675970        & 0.8019019        & -3.189613        & 0.001424636      & 0.02620721       & insH-5          \\\\\n",
       "\t ECDH10B\\_3744   &   48.10349       & -1.666696        & 0.8012909        & -3.186524        & 0.001439938      & 0.02634779       & yiaB            \\\\\n",
       "\t ECDH10B\\_1614   &   48.99245       & -1.648760        & 0.8000785        & -3.182781        & 0.001458680      & 0.02654953       & ddpF            \\\\\n",
       "\t ECDH10B\\_1208   & 6815.82008       & -1.272723        & 0.3039748        & -3.170788        & 0.001520261      & 0.02726482       & icd             \\\\\n",
       "\t ECDH10B\\_2674   & 2188.97129       & -1.502069        & 0.3783449        & -3.170502        & 0.001521758      & 0.02726482       & guaB            \\\\\n",
       "\t ECDH10B\\_3389   &   47.84627       & -1.651768        & 0.8003192        & -3.173063        & 0.001508398      & 0.02726482       & gltF            \\\\\n",
       "\t ECDH10B\\_2591   & 1389.23670       &  1.971189        & 0.5358637        &  3.153001        & 0.001616014      & 0.02880357       & ucpA            \\\\\n",
       "\t ECDH10B\\_1313   &   46.11363       & -1.607070        & 0.7973069        & -3.121708        & 0.001798051      & 0.03171946       & int             \\\\\n",
       "\t ECDH10B\\_3403   &  584.76312       &  1.786650        & 0.4791045        &  3.122554        & 0.001792891      & 0.03171946       & nanR            \\\\\n",
       "\t EBG00001089610 &   45.53694     & -1.603662      & 0.7970870      & -3.112712      & 0.001853768    & 0.03237037     & SraC\\_RyeA   \\\\\n",
       "\t ECDH10B\\_2588   &   45.68253       & -1.603547        & 0.7970732        & -3.114211        & 0.001844378      & 0.03237037       & cysW            \\\\\n",
       "\t ECDH10B\\_1650   &   44.62586       & -1.564817        & 0.7942526        & -3.073842        & 0.002113212      & 0.03671438       & tam             \\\\\n",
       "\t ECDH10B\\_0964   &  716.03972       &  2.154744        & 0.8281728        &  3.055873        & 0.002244065      & 0.03840504       & dmsA            \\\\\n",
       "\t ECDH10B\\_2009   &   47.42392       & -1.499286        & 0.7889009        & -3.054391        & 0.002255180      & 0.03840504       & yecE            \\\\\n",
       "\t ECDH10B\\_4331   & 1452.19750       &  1.949934        & 0.5467968        &  3.054562        & 0.002253893      & 0.03840504       & dcuA            \\\\\n",
       "\t ECDH10B\\_0795   & 2828.33358       & -1.309726        & 0.3292483        & -3.045832        & 0.002320372      & 0.03932059       & sucD            \\\\\n",
       "\t ECDH10B\\_1620   &   43.59337       & -1.515223        & 0.7903736        & -3.024539        & 0.002490121      & 0.04199028       & dos             \\\\\n",
       "\t ECDH10B\\_3624   &   43.59388       & -1.503093        & 0.7893658        & -3.015537        & 0.002565244      & 0.04304604       & ugpC            \\\\\n",
       "\t ECDH10B\\_2245   &  714.99032       &  1.926451        & 0.5480722        &  3.004746        & 0.002658028      & 0.04438649       & gatC            \\\\\n",
       "\t ECDH10B\\_4212   &  409.74063       &  1.770872        & 0.4938764        &  3.001118        & 0.002689904      & 0.04448687       & yjbD            \\\\\n",
       "\t ECDH10B\\_4461   &   45.03535       & -1.464486        & 0.7859814        & -3.001944        & 0.002682615      & 0.04448687       & idnK            \\\\\n",
       "\t ECDH10B\\_1243   &  998.65877       & -1.377328        & 0.3591508        & -2.987412        & 0.002813499      & 0.04630831       & dadX            \\\\\n",
       "\t ECDH10B\\_2322   &   42.33813       & -1.481188        & 0.7875580        & -2.983881        & 0.002846171      & 0.04642343       & yeiN            \\\\\n",
       "\t ECDH10B\\_3197   &   44.04968       & -1.455316        & 0.7852017        & -2.983740        & 0.002847484      & 0.04642343       & ygiV            \\\\\n",
       "\t ECDH10B\\_0871   &   41.43940       & -1.467017        & 0.7863585        & -2.962316        & 0.003053344      & 0.04931221       & ybiI            \\\\\n",
       "\t ECDH10B\\_1698   &   45.56730       & -1.402527        & 0.7802100        & -2.957858        & 0.003097846      & 0.04956553       & flxA            \\\\\n",
       "\\end{tabular}\n"
      ],
      "text/markdown": [
       "\n",
       "| gene | baseMean | log2FoldChange | lfcSE | stat | pvalue | padj | name |\n",
       "|---|---|---|---|---|---|---|---|\n",
       "| ECDH10B_4349 |  4910.1638   |  4.8193605   | 0.2678555    |  16.818233   | 1.794305e-63 | 6.172411e-60 | frdA         |\n",
       "| ECDH10B_4523 |  1897.2965   | -4.5317676   | 0.3118796    | -13.501608   | 1.529995e-41 | 2.631591e-38 | fhuF         |\n",
       "| ECDH10B_2363 |   766.1215   |  8.8102065   | 0.6410114    |   8.511573   | 1.715898e-17 | 1.967563e-14 | napA         |\n",
       "| ECDH10B_0285 |   543.2880   |  1.0330428   | 0.7311618    |   8.330090   | 8.078086e-17 | 5.557723e-14 | ykgM         |\n",
       "| ECDH10B_2312 |  1317.5887   | -3.7295739   | 0.4099424    |  -8.352489   | 6.683921e-17 | 5.557723e-14 | cirA         |\n",
       "| ECDH10B_2203 |   941.5378   | -7.8217323   | 0.6821640    |  -7.795989   | 6.390618e-15 | 3.663955e-12 | gmd          |\n",
       "| ECDH10B_1371 |   524.6469   |  7.6604750   | 0.6966013    |   7.746501   | 9.445937e-15 | 4.642004e-12 | ompW         |\n",
       "| ECDH10B_0283 |   319.2418   |  0.9117007   | 0.7088226    |   7.705587   | 1.302434e-14 | 5.600466e-12 | ykgL         |\n",
       "| ECDH10B_3289 |   297.1256   |  0.8951693   | 0.7054366    |   7.618524   | 2.565931e-14 | 9.807558e-12 | tdcD         |\n",
       "| ECDH10B_2842 |   580.0996   | -7.6076874   | 0.6710524    |  -7.526358   | 5.217534e-14 | 1.794832e-11 | nrdE         |\n",
       "| ECDH10B_2202 |   523.3319   | -6.9778354   | 0.7088983    |  -7.123679   | 1.050836e-12 | 3.012397e-10 | fcl          |\n",
       "| ECDH10B_4347 |   559.9898   |  4.1996793   | 0.5491989    |   7.127364   | 1.023091e-12 | 3.012397e-10 | frdC         |\n",
       "| ECDH10B_2206 |   502.6374   | -6.7628731   | 0.7200997    |  -6.991781   | 2.714176e-12 | 6.738332e-10 | wcaD         |\n",
       "| ECDH10B_3292 |   183.6602   |  0.7737728   | 0.6776050    |   6.990333   | 2.742344e-12 | 6.738332e-10 | tdcA         |\n",
       "| ECDH10B_2176 |  1492.0338   | -3.1789238   | 0.4153000    |  -6.930142   | 4.204191e-12 | 9.641612e-10 | ugd          |\n",
       "| ECDH10B_2210 |   525.3330   | -6.4952239   | 0.7359175    |  -6.873356   | 6.270864e-12 | 1.348236e-09 | wzc          |\n",
       "| ECDH10B_4215 |   363.0161   | -6.6431785   | 0.7143003    |  -6.808675   | 9.850149e-12 | 1.993207e-09 | yjbE         |\n",
       "| ECDH10B_0965 |   266.2661   |  6.2816188   | 0.7467045    |   6.775493   | 1.239824e-11 | 2.369442e-09 | dmsB         |\n",
       "| ECDH10B_2200 |   389.1065   | -6.3826924   | 0.7326014    |  -6.689446   | 2.240166e-11 | 4.055880e-09 | wcaI         |\n",
       "| ECDH10B_3173 |   248.5259   |  6.0881814   | 0.7538812    |   6.652857   | 2.874573e-11 | 4.944266e-09 | hybA         |\n",
       "| ECDH10B_2359 |   231.1944   |  6.0804429   | 0.7527275    |   6.613711   | 3.748036e-11 | 6.139639e-09 | napC         |\n",
       "| ECDH10B_2199 |   348.1312   | -6.2738420   | 0.7349373    |  -6.587505   | 4.472775e-11 | 6.993794e-09 | cpsB         |\n",
       "| ECDH10B_3174 |   577.9017   |  3.7341370   | 0.5246033    |   6.570483   | 5.015228e-11 | 7.501036e-09 | hybO         |\n",
       "| ECDH10B_4134 |   293.2224   |  5.6497506   | 0.7735471    |   6.557189   | 5.483153e-11 | 7.859186e-09 | gldA         |\n",
       "| ECDH10B_0973 | 11939.4236   |  2.0961228   | 0.2729598    |   6.539486   | 6.173051e-11 | 8.494119e-09 | pflB         |\n",
       "| ECDH10B_2201 |   318.6860   | -6.1550287   | 0.7386320    |  -6.489040   | 8.638498e-11 | 1.142940e-08 | nudD         |\n",
       "| ECDH10B_2843 |   294.6255   | -6.1123901   | 0.7383848    |  -6.435426   | 1.231279e-10 | 1.512714e-08 | nrdF         |\n",
       "| ECDH10B_2895 |   247.0361   |  5.5966978   | 0.7733961    |   6.437201   | 1.216970e-10 | 1.512714e-08 | hypB         |\n",
       "| ECDH10B_4131 |  2644.2049   |  2.7995993   | 0.3927516    |   6.361781   | 1.994277e-10 | 2.365625e-08 | katG         |\n",
       "| ECDH10B_3541 |   877.5041   |  4.0923571   | 0.6063958    |   6.317736   | 2.654233e-10 | 3.043521e-08 | nirB         |\n",
       "| ... | ... | ... | ... | ... | ... | ... | ... |\n",
       "| ECDH10B_4534   |   49.71473     | -1.704509      | 0.8036177      | -3.230207      | 0.001237006    | 0.02325302     | ytjA           |\n",
       "| ECDH10B_1808   |   39.77660     |  1.391755      | 0.7777937      |  3.219723      | 0.001283146    | 0.02398926     | ydhY           |\n",
       "| ECDH10B_3158   |   48.02581     | -1.683939      | 0.8023996      | -3.197897      | 0.001384335    | 0.02574115     | yghO           |\n",
       "| ECDH10B_1621   |   49.18845     | -1.660546      | 0.8008493      | -3.193656      | 0.001404835    | 0.02598189     | yddV           |\n",
       "| ECDH10B_1492   |   47.78402     | -1.675970      | 0.8019019      | -3.189613      | 0.001424636    | 0.02620721     | insH-5         |\n",
       "| ECDH10B_3744   |   48.10349     | -1.666696      | 0.8012909      | -3.186524      | 0.001439938    | 0.02634779     | yiaB           |\n",
       "| ECDH10B_1614   |   48.99245     | -1.648760      | 0.8000785      | -3.182781      | 0.001458680    | 0.02654953     | ddpF           |\n",
       "| ECDH10B_1208   | 6815.82008     | -1.272723      | 0.3039748      | -3.170788      | 0.001520261    | 0.02726482     | icd            |\n",
       "| ECDH10B_2674   | 2188.97129     | -1.502069      | 0.3783449      | -3.170502      | 0.001521758    | 0.02726482     | guaB           |\n",
       "| ECDH10B_3389   |   47.84627     | -1.651768      | 0.8003192      | -3.173063      | 0.001508398    | 0.02726482     | gltF           |\n",
       "| ECDH10B_2591   | 1389.23670     |  1.971189      | 0.5358637      |  3.153001      | 0.001616014    | 0.02880357     | ucpA           |\n",
       "| ECDH10B_1313   |   46.11363     | -1.607070      | 0.7973069      | -3.121708      | 0.001798051    | 0.03171946     | int            |\n",
       "| ECDH10B_3403   |  584.76312     |  1.786650      | 0.4791045      |  3.122554      | 0.001792891    | 0.03171946     | nanR           |\n",
       "| EBG00001089610 |   45.53694     | -1.603662      | 0.7970870      | -3.112712      | 0.001853768    | 0.03237037     | SraC_RyeA      |\n",
       "| ECDH10B_2588   |   45.68253     | -1.603547      | 0.7970732      | -3.114211      | 0.001844378    | 0.03237037     | cysW           |\n",
       "| ECDH10B_1650   |   44.62586     | -1.564817      | 0.7942526      | -3.073842      | 0.002113212    | 0.03671438     | tam            |\n",
       "| ECDH10B_0964   |  716.03972     |  2.154744      | 0.8281728      |  3.055873      | 0.002244065    | 0.03840504     | dmsA           |\n",
       "| ECDH10B_2009   |   47.42392     | -1.499286      | 0.7889009      | -3.054391      | 0.002255180    | 0.03840504     | yecE           |\n",
       "| ECDH10B_4331   | 1452.19750     |  1.949934      | 0.5467968      |  3.054562      | 0.002253893    | 0.03840504     | dcuA           |\n",
       "| ECDH10B_0795   | 2828.33358     | -1.309726      | 0.3292483      | -3.045832      | 0.002320372    | 0.03932059     | sucD           |\n",
       "| ECDH10B_1620   |   43.59337     | -1.515223      | 0.7903736      | -3.024539      | 0.002490121    | 0.04199028     | dos            |\n",
       "| ECDH10B_3624   |   43.59388     | -1.503093      | 0.7893658      | -3.015537      | 0.002565244    | 0.04304604     | ugpC           |\n",
       "| ECDH10B_2245   |  714.99032     |  1.926451      | 0.5480722      |  3.004746      | 0.002658028    | 0.04438649     | gatC           |\n",
       "| ECDH10B_4212   |  409.74063     |  1.770872      | 0.4938764      |  3.001118      | 0.002689904    | 0.04448687     | yjbD           |\n",
       "| ECDH10B_4461   |   45.03535     | -1.464486      | 0.7859814      | -3.001944      | 0.002682615    | 0.04448687     | idnK           |\n",
       "| ECDH10B_1243   |  998.65877     | -1.377328      | 0.3591508      | -2.987412      | 0.002813499    | 0.04630831     | dadX           |\n",
       "| ECDH10B_2322   |   42.33813     | -1.481188      | 0.7875580      | -2.983881      | 0.002846171    | 0.04642343     | yeiN           |\n",
       "| ECDH10B_3197   |   44.04968     | -1.455316      | 0.7852017      | -2.983740      | 0.002847484    | 0.04642343     | ygiV           |\n",
       "| ECDH10B_0871   |   41.43940     | -1.467017      | 0.7863585      | -2.962316      | 0.003053344    | 0.04931221     | ybiI           |\n",
       "| ECDH10B_1698   |   45.56730     | -1.402527      | 0.7802100      | -2.957858      | 0.003097846    | 0.04956553     | flxA           |\n",
       "\n"
      ],
      "text/plain": [
       "    gene           baseMean   log2FoldChange lfcSE     stat       pvalue      \n",
       "1   ECDH10B_4349    4910.1638  4.8193605     0.2678555  16.818233 1.794305e-63\n",
       "2   ECDH10B_4523    1897.2965 -4.5317676     0.3118796 -13.501608 1.529995e-41\n",
       "3   ECDH10B_2363     766.1215  8.8102065     0.6410114   8.511573 1.715898e-17\n",
       "4   ECDH10B_0285     543.2880  1.0330428     0.7311618   8.330090 8.078086e-17\n",
       "5   ECDH10B_2312    1317.5887 -3.7295739     0.4099424  -8.352489 6.683921e-17\n",
       "6   ECDH10B_2203     941.5378 -7.8217323     0.6821640  -7.795989 6.390618e-15\n",
       "7   ECDH10B_1371     524.6469  7.6604750     0.6966013   7.746501 9.445937e-15\n",
       "8   ECDH10B_0283     319.2418  0.9117007     0.7088226   7.705587 1.302434e-14\n",
       "9   ECDH10B_3289     297.1256  0.8951693     0.7054366   7.618524 2.565931e-14\n",
       "10  ECDH10B_2842     580.0996 -7.6076874     0.6710524  -7.526358 5.217534e-14\n",
       "11  ECDH10B_2202     523.3319 -6.9778354     0.7088983  -7.123679 1.050836e-12\n",
       "12  ECDH10B_4347     559.9898  4.1996793     0.5491989   7.127364 1.023091e-12\n",
       "13  ECDH10B_2206     502.6374 -6.7628731     0.7200997  -6.991781 2.714176e-12\n",
       "14  ECDH10B_3292     183.6602  0.7737728     0.6776050   6.990333 2.742344e-12\n",
       "15  ECDH10B_2176    1492.0338 -3.1789238     0.4153000  -6.930142 4.204191e-12\n",
       "16  ECDH10B_2210     525.3330 -6.4952239     0.7359175  -6.873356 6.270864e-12\n",
       "17  ECDH10B_4215     363.0161 -6.6431785     0.7143003  -6.808675 9.850149e-12\n",
       "18  ECDH10B_0965     266.2661  6.2816188     0.7467045   6.775493 1.239824e-11\n",
       "19  ECDH10B_2200     389.1065 -6.3826924     0.7326014  -6.689446 2.240166e-11\n",
       "20  ECDH10B_3173     248.5259  6.0881814     0.7538812   6.652857 2.874573e-11\n",
       "21  ECDH10B_2359     231.1944  6.0804429     0.7527275   6.613711 3.748036e-11\n",
       "22  ECDH10B_2199     348.1312 -6.2738420     0.7349373  -6.587505 4.472775e-11\n",
       "23  ECDH10B_3174     577.9017  3.7341370     0.5246033   6.570483 5.015228e-11\n",
       "24  ECDH10B_4134     293.2224  5.6497506     0.7735471   6.557189 5.483153e-11\n",
       "25  ECDH10B_0973   11939.4236  2.0961228     0.2729598   6.539486 6.173051e-11\n",
       "26  ECDH10B_2201     318.6860 -6.1550287     0.7386320  -6.489040 8.638498e-11\n",
       "27  ECDH10B_2843     294.6255 -6.1123901     0.7383848  -6.435426 1.231279e-10\n",
       "28  ECDH10B_2895     247.0361  5.5966978     0.7733961   6.437201 1.216970e-10\n",
       "29  ECDH10B_4131    2644.2049  2.7995993     0.3927516   6.361781 1.994277e-10\n",
       "30  ECDH10B_3541     877.5041  4.0923571     0.6063958   6.317736 2.654233e-10\n",
       "... ...            ...        ...            ...       ...        ...         \n",
       "180 ECDH10B_4534     49.71473 -1.704509      0.8036177 -3.230207  0.001237006 \n",
       "181 ECDH10B_1808     39.77660  1.391755      0.7777937  3.219723  0.001283146 \n",
       "182 ECDH10B_3158     48.02581 -1.683939      0.8023996 -3.197897  0.001384335 \n",
       "183 ECDH10B_1621     49.18845 -1.660546      0.8008493 -3.193656  0.001404835 \n",
       "184 ECDH10B_1492     47.78402 -1.675970      0.8019019 -3.189613  0.001424636 \n",
       "185 ECDH10B_3744     48.10349 -1.666696      0.8012909 -3.186524  0.001439938 \n",
       "186 ECDH10B_1614     48.99245 -1.648760      0.8000785 -3.182781  0.001458680 \n",
       "187 ECDH10B_1208   6815.82008 -1.272723      0.3039748 -3.170788  0.001520261 \n",
       "188 ECDH10B_2674   2188.97129 -1.502069      0.3783449 -3.170502  0.001521758 \n",
       "189 ECDH10B_3389     47.84627 -1.651768      0.8003192 -3.173063  0.001508398 \n",
       "190 ECDH10B_2591   1389.23670  1.971189      0.5358637  3.153001  0.001616014 \n",
       "191 ECDH10B_1313     46.11363 -1.607070      0.7973069 -3.121708  0.001798051 \n",
       "192 ECDH10B_3403    584.76312  1.786650      0.4791045  3.122554  0.001792891 \n",
       "193 EBG00001089610   45.53694 -1.603662      0.7970870 -3.112712  0.001853768 \n",
       "194 ECDH10B_2588     45.68253 -1.603547      0.7970732 -3.114211  0.001844378 \n",
       "195 ECDH10B_1650     44.62586 -1.564817      0.7942526 -3.073842  0.002113212 \n",
       "196 ECDH10B_0964    716.03972  2.154744      0.8281728  3.055873  0.002244065 \n",
       "197 ECDH10B_2009     47.42392 -1.499286      0.7889009 -3.054391  0.002255180 \n",
       "198 ECDH10B_4331   1452.19750  1.949934      0.5467968  3.054562  0.002253893 \n",
       "199 ECDH10B_0795   2828.33358 -1.309726      0.3292483 -3.045832  0.002320372 \n",
       "200 ECDH10B_1620     43.59337 -1.515223      0.7903736 -3.024539  0.002490121 \n",
       "201 ECDH10B_3624     43.59388 -1.503093      0.7893658 -3.015537  0.002565244 \n",
       "202 ECDH10B_2245    714.99032  1.926451      0.5480722  3.004746  0.002658028 \n",
       "203 ECDH10B_4212    409.74063  1.770872      0.4938764  3.001118  0.002689904 \n",
       "204 ECDH10B_4461     45.03535 -1.464486      0.7859814 -3.001944  0.002682615 \n",
       "205 ECDH10B_1243    998.65877 -1.377328      0.3591508 -2.987412  0.002813499 \n",
       "206 ECDH10B_2322     42.33813 -1.481188      0.7875580 -2.983881  0.002846171 \n",
       "207 ECDH10B_3197     44.04968 -1.455316      0.7852017 -2.983740  0.002847484 \n",
       "208 ECDH10B_0871     41.43940 -1.467017      0.7863585 -2.962316  0.003053344 \n",
       "209 ECDH10B_1698     45.56730 -1.402527      0.7802100 -2.957858  0.003097846 \n",
       "    padj         name     \n",
       "1   6.172411e-60 frdA     \n",
       "2   2.631591e-38 fhuF     \n",
       "3   1.967563e-14 napA     \n",
       "4   5.557723e-14 ykgM     \n",
       "5   5.557723e-14 cirA     \n",
       "6   3.663955e-12 gmd      \n",
       "7   4.642004e-12 ompW     \n",
       "8   5.600466e-12 ykgL     \n",
       "9   9.807558e-12 tdcD     \n",
       "10  1.794832e-11 nrdE     \n",
       "11  3.012397e-10 fcl      \n",
       "12  3.012397e-10 frdC     \n",
       "13  6.738332e-10 wcaD     \n",
       "14  6.738332e-10 tdcA     \n",
       "15  9.641612e-10 ugd      \n",
       "16  1.348236e-09 wzc      \n",
       "17  1.993207e-09 yjbE     \n",
       "18  2.369442e-09 dmsB     \n",
       "19  4.055880e-09 wcaI     \n",
       "20  4.944266e-09 hybA     \n",
       "21  6.139639e-09 napC     \n",
       "22  6.993794e-09 cpsB     \n",
       "23  7.501036e-09 hybO     \n",
       "24  7.859186e-09 gldA     \n",
       "25  8.494119e-09 pflB     \n",
       "26  1.142940e-08 nudD     \n",
       "27  1.512714e-08 nrdF     \n",
       "28  1.512714e-08 hypB     \n",
       "29  2.365625e-08 katG     \n",
       "30  3.043521e-08 nirB     \n",
       "... ...          ...      \n",
       "180 0.02325302   ytjA     \n",
       "181 0.02398926   ydhY     \n",
       "182 0.02574115   yghO     \n",
       "183 0.02598189   yddV     \n",
       "184 0.02620721   insH-5   \n",
       "185 0.02634779   yiaB     \n",
       "186 0.02654953   ddpF     \n",
       "187 0.02726482   icd      \n",
       "188 0.02726482   guaB     \n",
       "189 0.02726482   gltF     \n",
       "190 0.02880357   ucpA     \n",
       "191 0.03171946   int      \n",
       "192 0.03171946   nanR     \n",
       "193 0.03237037   SraC_RyeA\n",
       "194 0.03237037   cysW     \n",
       "195 0.03671438   tam      \n",
       "196 0.03840504   dmsA     \n",
       "197 0.03840504   yecE     \n",
       "198 0.03840504   dcuA     \n",
       "199 0.03932059   sucD     \n",
       "200 0.04199028   dos      \n",
       "201 0.04304604   ugpC     \n",
       "202 0.04438649   gatC     \n",
       "203 0.04448687   yjbD     \n",
       "204 0.04448687   idnK     \n",
       "205 0.04630831   dadX     \n",
       "206 0.04642343   yeiN     \n",
       "207 0.04642343   ygiV     \n",
       "208 0.04931221   ybiI     \n",
       "209 0.04956553   flxA     "
      ]
     },
     "metadata": {},
     "output_type": "display_data"
    }
   ],
   "source": [
    "#List of Significant genes\n",
    "sig_ecoli_dh10"
   ]
  },
  {
   "cell_type": "markdown",
   "metadata": {},
   "source": [
    "### Visualization of the results "
   ]
  },
  {
   "cell_type": "markdown",
   "metadata": {},
   "source": [
    "#### Expression Heatmap - plotting the normalized count values instead of the sample correlation values "
   ]
  },
  {
   "cell_type": "code",
   "execution_count": 16,
   "metadata": {},
   "outputs": [
    {
     "data": {
      "image/png": "[encoded data removed]",
      "text/plain": [
       "plot without title"
      ]
     },
     "metadata": {},
     "output_type": "display_data"
    }
   ],
   "source": [
    "# Subset the normalized counts of the significnat genes\n",
    "sig_norm_counts_ecoli_dh10 <- norm_ecoli_dh10[sig_ecoli_dh10$gene,]\n",
    "\n",
    "heat_colors <- brewer.pal(6, \"YlOrRd\")\n",
    "\n",
    "pheatmap(sig_norm_counts_ecoli_dh10,color = heat_colors,cluster_rows = T,show_rownames = F,annotation = select(ecoli_dh10_metadata, condition),scale = \"row\")"
   ]
  },
  {
   "cell_type": "markdown",
   "metadata": {},
   "source": [
    "We want the expression levels for the significant genes cluster by sample group which is the case for our data"
   ]
  },
  {
   "cell_type": "markdown",
   "metadata": {},
   "source": [
    "#### Volcano plot"
   ]
  },
  {
   "cell_type": "code",
   "execution_count": 17,
   "metadata": {},
   "outputs": [
    {
     "data": {
      "image/png": "[encoded data removed]",
      "text/plain": [
       "plot without title"
      ]
     },
     "metadata": {},
     "output_type": "display_data"
    }
   ],
   "source": [
    "# Obtain logical vector regarding whether padj values are less than 0.05 \n",
    "ecoli_res_all <- ecoli_res_all %>% mutate(threshold = padj < 0.05)\n",
    "\n",
    "ggplot(ecoli_res_all) + geom_point(aes(x = log2FoldChange, y = -log10(padj),color = threshold)) + xlab(\"log2 fold change\") + ylab(\"-log10 adjusted p-value\") + theme(legend.position = \"none\",plot.title = element_text(size = rel(1.5), hjust = 0.5), axis.title = element_text(size = rel(1.25)))+theme_bw()"
   ]
  },
  {
   "cell_type": "markdown",
   "metadata": {},
   "source": [
    "#### Expression plot"
   ]
  },
  {
   "cell_type": "markdown",
   "metadata": {},
   "source": [
    "We will look at the top 20 genes from the differentially expressed genes"
   ]
  },
  {
   "cell_type": "code",
   "execution_count": 18,
   "metadata": {
    "scrolled": false
   },
   "outputs": [
    {
     "name": "stderr",
     "output_type": "stream",
     "text": [
      "Warning message:\n",
      "\"Transformation introduced infinite values in continuous y-axis\""
     ]
    },
    {
     "data": {
      "image/png": "[encoded data removed]",
      "text/plain": [
       "plot without title"
      ]
     },
     "metadata": {},
     "output_type": "display_data"
    }
   ],
   "source": [
    "top_20 <- data.frame(sig_norm_counts_ecoli_dh10[1:20,]) %>% rownames_to_column(var = \"gene\")\n",
    "\n",
    "top_20 <- tidyr::gather(top_20,key = \"samplename\",value = \"normalized_counts\",2:5)\n",
    "\n",
    "# Join with the metadata\n",
    "top_20 <- left_join(top_20,rownames_to_column(ecoli_dh10_metadata, var = \"samplename\"), by = \"samplename\")\n",
    "\n",
    "ggplot(top_20) + geom_point(aes(x = gene, y = normalized_counts, color = condition)) + scale_y_log10() + xlab(\"Genes\") + ylab(\"Normalized Counts\") + ggtitle(\"Top 20 Significant DE Genes\") + theme_bw() +  theme(axis.text.x = element_text(angle = 45, hjust = 1)) + theme(plot.title = element_text(hjust = 0.5))"
   ]
  },
  {
   "cell_type": "markdown",
   "metadata": {},
   "source": [
    "The expression plot above shows the top 20 genes that seem to have a differential expression amoung the two states. The DE significant genes can be further used in the downstream anlaysis to perform a pathway analysis and study their mechanism in the genotype we are looking to explore."
   ]
  }
 ],
 "metadata": {
  "kernelspec": {
   "display_name": "R",
   "language": "R",
   "name": "ir"
  },
  "language_info": {
   "codemirror_mode": "r",
   "file_extension": ".r",
   "mimetype": "text/x-r-source",
   "name": "R",
   "pygments_lexer": "r",
   "version": "3.6.1"
  }
 },
 "nbformat": 4,
 "nbformat_minor": 2
}
